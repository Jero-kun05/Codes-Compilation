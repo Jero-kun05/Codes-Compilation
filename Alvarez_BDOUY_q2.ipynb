{
 "cells": [
  {
   "cell_type": "code",
   "execution_count": 44,
   "id": "73ab80b5",
   "metadata": {},
   "outputs": [],
   "source": [
    "#Importing necessary libraries\n",
    "\n",
    "import pandas as p\n",
    "import numpy as np\n",
    "import matplotlib.pyplot as plt\n",
    "\n",
    "from tensorflow.keras.models import Sequential\n",
    "from tensorflow.keras.layers import Dense\n",
    "from tensorflow.keras.layers import LSTM\n",
    "from tensorflow.keras.layers import Dropout\n",
    "from tensorflow.keras.layers import *\n",
    "from tensorflow.keras.callbacks import EarlyStopping\n",
    "\n",
    "from sklearn.preprocessing import MinMaxScaler, StandardScaler\n",
    "from sklearn.metrics import mean_squared_error\n",
    "from sklearn.metrics import mean_absolute_percentage_error\n",
    "from sklearn.model_selection import train_test_split\n",
    "from sklearn.model_selection import TimeSeriesSplit\n",
    "from sklearn.metrics import mean_squared_error"
   ]
  },
  {
   "cell_type": "code",
   "execution_count": 9,
   "id": "2c79378e",
   "metadata": {},
   "outputs": [
    {
     "data": {
      "text/html": [
       "<div>\n",
       "<style scoped>\n",
       "    .dataframe tbody tr th:only-of-type {\n",
       "        vertical-align: middle;\n",
       "    }\n",
       "\n",
       "    .dataframe tbody tr th {\n",
       "        vertical-align: top;\n",
       "    }\n",
       "\n",
       "    .dataframe thead th {\n",
       "        text-align: right;\n",
       "    }\n",
       "</style>\n",
       "<table border=\"1\" class=\"dataframe\">\n",
       "  <thead>\n",
       "    <tr style=\"text-align: right;\">\n",
       "      <th></th>\n",
       "      <th>Open</th>\n",
       "      <th>High</th>\n",
       "      <th>Low</th>\n",
       "      <th>Close</th>\n",
       "      <th>Adj Close</th>\n",
       "      <th>Volume</th>\n",
       "    </tr>\n",
       "    <tr>\n",
       "      <th>Date</th>\n",
       "      <th></th>\n",
       "      <th></th>\n",
       "      <th></th>\n",
       "      <th></th>\n",
       "      <th></th>\n",
       "      <th></th>\n",
       "    </tr>\n",
       "  </thead>\n",
       "  <tbody>\n",
       "    <tr>\n",
       "      <th>2020-10-12</th>\n",
       "      <td>18.980000</td>\n",
       "      <td>18.980000</td>\n",
       "      <td>17.879999</td>\n",
       "      <td>17.879999</td>\n",
       "      <td>17.421066</td>\n",
       "      <td>500</td>\n",
       "    </tr>\n",
       "    <tr>\n",
       "      <th>2020-10-13</th>\n",
       "      <td>18.400000</td>\n",
       "      <td>18.400000</td>\n",
       "      <td>18.400000</td>\n",
       "      <td>18.400000</td>\n",
       "      <td>17.927721</td>\n",
       "      <td>500</td>\n",
       "    </tr>\n",
       "    <tr>\n",
       "      <th>2020-10-14</th>\n",
       "      <td>17.030001</td>\n",
       "      <td>17.500000</td>\n",
       "      <td>17.020000</td>\n",
       "      <td>17.500000</td>\n",
       "      <td>17.050823</td>\n",
       "      <td>1700</td>\n",
       "    </tr>\n",
       "    <tr>\n",
       "      <th>2020-10-15</th>\n",
       "      <td>17.500000</td>\n",
       "      <td>17.500000</td>\n",
       "      <td>16.959999</td>\n",
       "      <td>16.959999</td>\n",
       "      <td>16.524681</td>\n",
       "      <td>1300</td>\n",
       "    </tr>\n",
       "    <tr>\n",
       "      <th>2020-10-16</th>\n",
       "      <td>18.850000</td>\n",
       "      <td>18.889999</td>\n",
       "      <td>17.780001</td>\n",
       "      <td>17.780001</td>\n",
       "      <td>17.323639</td>\n",
       "      <td>7500</td>\n",
       "    </tr>\n",
       "  </tbody>\n",
       "</table>\n",
       "</div>"
      ],
      "text/plain": [
       "                 Open       High        Low      Close  Adj Close  Volume\n",
       "Date                                                                     \n",
       "2020-10-12  18.980000  18.980000  17.879999  17.879999  17.421066     500\n",
       "2020-10-13  18.400000  18.400000  18.400000  18.400000  17.927721     500\n",
       "2020-10-14  17.030001  17.500000  17.020000  17.500000  17.050823    1700\n",
       "2020-10-15  17.500000  17.500000  16.959999  16.959999  16.524681    1300\n",
       "2020-10-16  18.850000  18.889999  17.780001  17.780001  17.323639    7500"
      ]
     },
     "execution_count": 9,
     "metadata": {},
     "output_type": "execute_result"
    }
   ],
   "source": [
    "#Loading the Stock Prices Dataset aquired from Yahoo Finance.\n",
    "\n",
    "bdo_data = pd.read_csv('BDOUY.csv', index_col = 'Date')\n",
    "bdo_data.head()"
   ]
  },
  {
   "cell_type": "code",
   "execution_count": 21,
   "id": "02f7737e",
   "metadata": {},
   "outputs": [],
   "source": [
    "#Processing the Data\n",
    "\n",
    "target_y = bdo_data['Close']\n",
    "x_feat = bdo_data.iloc[:,0:3]\n",
    "\n",
    "#Feature Scaling\n",
    "\n",
    "sc = StandardScaler()\n",
    "x_ft = sc.fit_transform(x_feat.values)\n",
    "x_ft = pd.DataFrame (columns=x_feat.columns,\n",
    "                    data=x_ft,\n",
    "                    index=x_feat.index)\n",
    "\n",
    "def lstm_split(data, n_steps):\n",
    "    x, y = [], []\n",
    "    for i in range(len(data)-n_steps+1):\n",
    "        x.append(data[i:i + n_steps, :-1])\n",
    "        y.append(data[i + n_steps-1, -1])\n",
    "\n",
    "    return np.array(x), np.array(y)"
   ]
  },
  {
   "cell_type": "code",
   "execution_count": 28,
   "id": "43059ae2",
   "metadata": {
    "scrolled": true
   },
   "outputs": [
    {
     "name": "stdout",
     "output_type": "stream",
     "text": [
      "(501, 2, 5) (401, 2, 5) (100, 2, 5) (100,)\n"
     ]
    }
   ],
   "source": [
    "#Train and Test Sets for Stock Price Prediction\n",
    "\n",
    "Xl , yl = lstm_split(bdo_data.values, n_steps=2)\n",
    "\n",
    "train_split=0.8\n",
    "split_idx = int(np.ceil(len(X1)*train_split))\n",
    "date_index = bdo_data.index\n",
    "\n",
    "x_train, x_test = Xl[:split_idx], Xl[split_idx :]\n",
    "y_train, y_test = yl[:split_idx], yl[split_idx :]\n",
    "x_train_date, x_test_date = date_index[:split_idx], date_index[split_idx :]\n",
    "\n",
    "print (Xl.shape, x_train.shape, x_test.shape, y_test.shape)"
   ]
  },
  {
   "cell_type": "code",
   "execution_count": 37,
   "id": "17cdc1e5",
   "metadata": {},
   "outputs": [
    {
     "name": "stdout",
     "output_type": "stream",
     "text": [
      "Model: \"sequential_2\"\n",
      "_________________________________________________________________\n",
      " Layer (type)                Output Shape              Param #   \n",
      "=================================================================\n",
      " lstm_2 (LSTM)               (None, 32)                4864      \n",
      "                                                                 \n",
      " dense_2 (Dense)             (None, 1)                 33        \n",
      "                                                                 \n",
      "=================================================================\n",
      "Total params: 4,897\n",
      "Trainable params: 4,897\n",
      "Non-trainable params: 0\n",
      "_________________________________________________________________\n"
     ]
    }
   ],
   "source": [
    "#Building the LSTM model.\n",
    "\n",
    "lstm = Sequential()\n",
    "\n",
    "lstm.add(LSTM(32, input_shape=(x_train.shape[1], x_train.shape[2]),\n",
    "             activation='relu', return_sequences= False))\n",
    "lstm.add(Dense(1))\n",
    "lstm.compile(loss='mean_squared_error', optimizer='adam')\n",
    "lstm.summary()"
   ]
  },
  {
   "cell_type": "code",
   "execution_count": 39,
   "id": "5205a77f",
   "metadata": {},
   "outputs": [
    {
     "name": "stdout",
     "output_type": "stream",
     "text": [
      "Epoch 1/100\n",
      "41/41 - 3s - loss: 213221216.0000 - 3s/epoch - 77ms/step\n",
      "Epoch 2/100\n",
      "41/41 - 0s - loss: 213066192.0000 - 107ms/epoch - 3ms/step\n",
      "Epoch 3/100\n",
      "41/41 - 0s - loss: 212744640.0000 - 104ms/epoch - 3ms/step\n",
      "Epoch 4/100\n",
      "41/41 - 0s - loss: 212362192.0000 - 104ms/epoch - 3ms/step\n",
      "Epoch 5/100\n",
      "41/41 - 0s - loss: 211804912.0000 - 105ms/epoch - 3ms/step\n",
      "Epoch 6/100\n",
      "41/41 - 0s - loss: 211022576.0000 - 105ms/epoch - 3ms/step\n",
      "Epoch 7/100\n",
      "41/41 - 0s - loss: 209840240.0000 - 105ms/epoch - 3ms/step\n",
      "Epoch 8/100\n",
      "41/41 - 0s - loss: 208356864.0000 - 103ms/epoch - 3ms/step\n",
      "Epoch 9/100\n",
      "41/41 - 0s - loss: 206610480.0000 - 104ms/epoch - 3ms/step\n",
      "Epoch 10/100\n",
      "41/41 - 0s - loss: 204635936.0000 - 105ms/epoch - 3ms/step\n",
      "Epoch 11/100\n",
      "41/41 - 0s - loss: 202651648.0000 - 105ms/epoch - 3ms/step\n",
      "Epoch 12/100\n",
      "41/41 - 0s - loss: 200718400.0000 - 111ms/epoch - 3ms/step\n",
      "Epoch 13/100\n",
      "41/41 - 0s - loss: 198921536.0000 - 99ms/epoch - 2ms/step\n",
      "Epoch 14/100\n",
      "41/41 - 0s - loss: 197324416.0000 - 106ms/epoch - 3ms/step\n",
      "Epoch 15/100\n",
      "41/41 - 0s - loss: 195961568.0000 - 105ms/epoch - 3ms/step\n",
      "Epoch 16/100\n",
      "41/41 - 0s - loss: 194839872.0000 - 104ms/epoch - 3ms/step\n",
      "Epoch 17/100\n",
      "41/41 - 0s - loss: 193944400.0000 - 106ms/epoch - 3ms/step\n",
      "Epoch 18/100\n",
      "41/41 - 0s - loss: 193247136.0000 - 106ms/epoch - 3ms/step\n",
      "Epoch 19/100\n",
      "41/41 - 0s - loss: 192714512.0000 - 106ms/epoch - 3ms/step\n",
      "Epoch 20/100\n",
      "41/41 - 0s - loss: 192313344.0000 - 109ms/epoch - 3ms/step\n",
      "Epoch 21/100\n",
      "41/41 - 0s - loss: 192013856.0000 - 106ms/epoch - 3ms/step\n",
      "Epoch 22/100\n",
      "41/41 - 0s - loss: 191791488.0000 - 108ms/epoch - 3ms/step\n",
      "Epoch 23/100\n",
      "41/41 - 0s - loss: 191626432.0000 - 105ms/epoch - 3ms/step\n",
      "Epoch 24/100\n",
      "41/41 - 0s - loss: 191503808.0000 - 112ms/epoch - 3ms/step\n",
      "Epoch 25/100\n",
      "41/41 - 0s - loss: 191412416.0000 - 105ms/epoch - 3ms/step\n",
      "Epoch 26/100\n",
      "41/41 - 0s - loss: 191343728.0000 - 105ms/epoch - 3ms/step\n",
      "Epoch 27/100\n",
      "41/41 - 0s - loss: 191291840.0000 - 105ms/epoch - 3ms/step\n",
      "Epoch 28/100\n",
      "41/41 - 0s - loss: 191252272.0000 - 104ms/epoch - 3ms/step\n",
      "Epoch 29/100\n",
      "41/41 - 0s - loss: 191221856.0000 - 116ms/epoch - 3ms/step\n",
      "Epoch 30/100\n",
      "41/41 - 0s - loss: 191198240.0000 - 114ms/epoch - 3ms/step\n",
      "Epoch 31/100\n",
      "41/41 - 0s - loss: 191179648.0000 - 105ms/epoch - 3ms/step\n",
      "Epoch 32/100\n",
      "41/41 - 0s - loss: 191164976.0000 - 106ms/epoch - 3ms/step\n",
      "Epoch 33/100\n",
      "41/41 - 0s - loss: 191153184.0000 - 105ms/epoch - 3ms/step\n",
      "Epoch 34/100\n",
      "41/41 - 0s - loss: 191143664.0000 - 105ms/epoch - 3ms/step\n",
      "Epoch 35/100\n",
      "41/41 - 0s - loss: 191135872.0000 - 105ms/epoch - 3ms/step\n",
      "Epoch 36/100\n",
      "41/41 - 0s - loss: 191129472.0000 - 103ms/epoch - 3ms/step\n",
      "Epoch 37/100\n",
      "41/41 - 0s - loss: 191124160.0000 - 104ms/epoch - 3ms/step\n",
      "Epoch 38/100\n",
      "41/41 - 0s - loss: 191119648.0000 - 108ms/epoch - 3ms/step\n",
      "Epoch 39/100\n",
      "41/41 - 0s - loss: 191115872.0000 - 105ms/epoch - 3ms/step\n",
      "Epoch 40/100\n",
      "41/41 - 0s - loss: 191112672.0000 - 103ms/epoch - 3ms/step\n",
      "Epoch 41/100\n",
      "41/41 - 0s - loss: 191109904.0000 - 104ms/epoch - 3ms/step\n",
      "Epoch 42/100\n",
      "41/41 - 0s - loss: 191107568.0000 - 108ms/epoch - 3ms/step\n",
      "Epoch 43/100\n",
      "41/41 - 0s - loss: 191105472.0000 - 106ms/epoch - 3ms/step\n",
      "Epoch 44/100\n",
      "41/41 - 0s - loss: 191103696.0000 - 106ms/epoch - 3ms/step\n",
      "Epoch 45/100\n",
      "41/41 - 0s - loss: 191102096.0000 - 111ms/epoch - 3ms/step\n",
      "Epoch 46/100\n",
      "41/41 - 0s - loss: 191100704.0000 - 112ms/epoch - 3ms/step\n",
      "Epoch 47/100\n",
      "41/41 - 0s - loss: 191099504.0000 - 109ms/epoch - 3ms/step\n",
      "Epoch 48/100\n",
      "41/41 - 0s - loss: 191098352.0000 - 104ms/epoch - 3ms/step\n",
      "Epoch 49/100\n",
      "41/41 - 0s - loss: 191097392.0000 - 106ms/epoch - 3ms/step\n",
      "Epoch 50/100\n",
      "41/41 - 0s - loss: 191096528.0000 - 106ms/epoch - 3ms/step\n",
      "Epoch 51/100\n",
      "41/41 - 0s - loss: 191095696.0000 - 107ms/epoch - 3ms/step\n",
      "Epoch 52/100\n",
      "41/41 - 0s - loss: 191094944.0000 - 109ms/epoch - 3ms/step\n",
      "Epoch 53/100\n",
      "41/41 - 0s - loss: 191094320.0000 - 103ms/epoch - 3ms/step\n",
      "Epoch 54/100\n",
      "41/41 - 0s - loss: 191093696.0000 - 109ms/epoch - 3ms/step\n",
      "Epoch 55/100\n",
      "41/41 - 0s - loss: 191093168.0000 - 113ms/epoch - 3ms/step\n",
      "Epoch 56/100\n",
      "41/41 - 0s - loss: 191092640.0000 - 108ms/epoch - 3ms/step\n",
      "Epoch 57/100\n",
      "41/41 - 0s - loss: 191092192.0000 - 105ms/epoch - 3ms/step\n",
      "Epoch 58/100\n",
      "41/41 - 0s - loss: 191091760.0000 - 102ms/epoch - 2ms/step\n",
      "Epoch 59/100\n",
      "41/41 - 0s - loss: 191091344.0000 - 106ms/epoch - 3ms/step\n",
      "Epoch 60/100\n",
      "41/41 - 0s - loss: 191090992.0000 - 103ms/epoch - 3ms/step\n",
      "Epoch 61/100\n",
      "41/41 - 0s - loss: 191090656.0000 - 103ms/epoch - 3ms/step\n",
      "Epoch 62/100\n",
      "41/41 - 0s - loss: 191090384.0000 - 102ms/epoch - 2ms/step\n",
      "Epoch 63/100\n",
      "41/41 - 0s - loss: 191090048.0000 - 106ms/epoch - 3ms/step\n",
      "Epoch 64/100\n",
      "41/41 - 0s - loss: 191089744.0000 - 114ms/epoch - 3ms/step\n",
      "Epoch 65/100\n",
      "41/41 - 0s - loss: 191089520.0000 - 110ms/epoch - 3ms/step\n",
      "Epoch 66/100\n",
      "41/41 - 0s - loss: 191089248.0000 - 106ms/epoch - 3ms/step\n",
      "Epoch 67/100\n",
      "41/41 - 0s - loss: 191089056.0000 - 104ms/epoch - 3ms/step\n",
      "Epoch 68/100\n",
      "41/41 - 0s - loss: 191088800.0000 - 105ms/epoch - 3ms/step\n",
      "Epoch 69/100\n",
      "41/41 - 0s - loss: 191088656.0000 - 115ms/epoch - 3ms/step\n",
      "Epoch 70/100\n",
      "41/41 - 0s - loss: 191088448.0000 - 111ms/epoch - 3ms/step\n",
      "Epoch 71/100\n",
      "41/41 - 0s - loss: 191088240.0000 - 109ms/epoch - 3ms/step\n",
      "Epoch 72/100\n",
      "41/41 - 0s - loss: 191088064.0000 - 107ms/epoch - 3ms/step\n",
      "Epoch 73/100\n",
      "41/41 - 0s - loss: 191087920.0000 - 105ms/epoch - 3ms/step\n",
      "Epoch 74/100\n",
      "41/41 - 0s - loss: 191087712.0000 - 134ms/epoch - 3ms/step\n",
      "Epoch 75/100\n",
      "41/41 - 0s - loss: 191087568.0000 - 107ms/epoch - 3ms/step\n",
      "Epoch 76/100\n",
      "41/41 - 0s - loss: 191087456.0000 - 106ms/epoch - 3ms/step\n",
      "Epoch 77/100\n",
      "41/41 - 0s - loss: 191087312.0000 - 122ms/epoch - 3ms/step\n",
      "Epoch 78/100\n",
      "41/41 - 0s - loss: 191087168.0000 - 142ms/epoch - 3ms/step\n",
      "Epoch 79/100\n",
      "41/41 - 0s - loss: 191087088.0000 - 143ms/epoch - 3ms/step\n",
      "Epoch 80/100\n",
      "41/41 - 0s - loss: 191086944.0000 - 154ms/epoch - 4ms/step\n",
      "Epoch 81/100\n",
      "41/41 - 0s - loss: 191086816.0000 - 140ms/epoch - 3ms/step\n",
      "Epoch 82/100\n",
      "41/41 - 0s - loss: 191086688.0000 - 134ms/epoch - 3ms/step\n",
      "Epoch 83/100\n",
      "41/41 - 0s - loss: 191086592.0000 - 127ms/epoch - 3ms/step\n",
      "Epoch 84/100\n",
      "41/41 - 0s - loss: 191086496.0000 - 117ms/epoch - 3ms/step\n",
      "Epoch 85/100\n",
      "41/41 - 0s - loss: 191086384.0000 - 133ms/epoch - 3ms/step\n",
      "Epoch 86/100\n",
      "41/41 - 0s - loss: 191086288.0000 - 133ms/epoch - 3ms/step\n",
      "Epoch 87/100\n",
      "41/41 - 0s - loss: 191086224.0000 - 170ms/epoch - 4ms/step\n",
      "Epoch 88/100\n",
      "41/41 - 0s - loss: 191086128.0000 - 202ms/epoch - 5ms/step\n",
      "Epoch 89/100\n",
      "41/41 - 0s - loss: 191086048.0000 - 139ms/epoch - 3ms/step\n",
      "Epoch 90/100\n",
      "41/41 - 0s - loss: 191085952.0000 - 133ms/epoch - 3ms/step\n",
      "Epoch 91/100\n",
      "41/41 - 0s - loss: 191085872.0000 - 125ms/epoch - 3ms/step\n",
      "Epoch 92/100\n",
      "41/41 - 0s - loss: 191085792.0000 - 122ms/epoch - 3ms/step\n",
      "Epoch 93/100\n",
      "41/41 - 0s - loss: 191085712.0000 - 119ms/epoch - 3ms/step\n",
      "Epoch 94/100\n",
      "41/41 - 0s - loss: 191085648.0000 - 120ms/epoch - 3ms/step\n",
      "Epoch 95/100\n",
      "41/41 - 0s - loss: 191085568.0000 - 122ms/epoch - 3ms/step\n",
      "Epoch 96/100\n",
      "41/41 - 0s - loss: 191085488.0000 - 122ms/epoch - 3ms/step\n",
      "Epoch 97/100\n",
      "41/41 - 0s - loss: 191085424.0000 - 123ms/epoch - 3ms/step\n",
      "Epoch 98/100\n",
      "41/41 - 0s - loss: 191085360.0000 - 123ms/epoch - 3ms/step\n",
      "Epoch 99/100\n",
      "41/41 - 0s - loss: 191085280.0000 - 124ms/epoch - 3ms/step\n",
      "Epoch 100/100\n",
      "41/41 - 0s - loss: 191085264.0000 - 119ms/epoch - 3ms/step\n"
     ]
    }
   ],
   "source": [
    "#Fitting the model to the training data.\n",
    "\n",
    "history=lstm.fit(x_train, y_train,\n",
    "                epochs=100, batch_size=10,\n",
    "                verbose=2, shuffle=False)"
   ]
  },
  {
   "cell_type": "code",
   "execution_count": 49,
   "id": "1a0a6de4",
   "metadata": {},
   "outputs": [
    {
     "name": "stdout",
     "output_type": "stream",
     "text": [
      "4/4 [==============================] - 0s 4ms/step\n"
     ]
    }
   ],
   "source": [
    "#Performance Evaluation on Test Set\n",
    "\n",
    "y_pred = lstm.predict(x_test)"
   ]
  },
  {
   "cell_type": "code",
   "execution_count": 50,
   "id": "f5ac9041",
   "metadata": {},
   "outputs": [
    {
     "name": "stdout",
     "output_type": "stream",
     "text": [
      "RSME:  6040.193281645824\n",
      "MAPE:  6.178517795701208e+17\n"
     ]
    }
   ],
   "source": [
    "#Plotting the curve for true values and overlap it with that for the predicted values.\n",
    "\n",
    "rmse = mean_squared_error(y_test, y_pred, squared=False)\n",
    "mape = mean_absolute_percentage_error(y_test, y_pred)\n",
    "print(\"RSME: \",rmse)\n",
    "print(\"MAPE: \",mape)"
   ]
  },
  {
   "cell_type": "code",
   "execution_count": 57,
   "id": "d19d4f47",
   "metadata": {},
   "outputs": [],
   "source": [
    "bdo_data_test = pd.read_csv(\"BDOUY.csv\")\n",
    "actual_stock_price = bdo_data.iloc[:,1:2].values"
   ]
  },
  {
   "cell_type": "code",
   "execution_count": 62,
   "id": "7de197c2",
   "metadata": {},
   "outputs": [
    {
     "name": "stdout",
     "output_type": "stream",
     "text": [
      "4/4 [==============================] - 0s 9ms/step\n"
     ]
    }
   ],
   "source": [
    "predicted_stock_price = lstm.predict(x_test)"
   ]
  },
  {
   "cell_type": "code",
   "execution_count": 63,
   "id": "8ca068a9",
   "metadata": {},
   "outputs": [
    {
     "data": {
      "text/plain": [
       "<matplotlib.legend.Legend at 0x250bf4f10d0>"
      ]
     },
     "execution_count": 63,
     "metadata": {},
     "output_type": "execute_result"
    },
    {
     "data": {
      "image/png": "[encoded data removed]",
      "text/plain": [
       "<Figure size 432x288 with 1 Axes>"
      ]
     },
     "metadata": {
      "needs_background": "light"
     },
     "output_type": "display_data"
    }
   ],
   "source": [
    "#Plotting the curve for true values and overlap it with that for the predicted value\n",
    "\n",
    "plt.plot(actual_stock_price, color = 'orange', label = 'Actual BDO Stock Price')\n",
    "plt.plot(predicted_stock_price, color = 'green', label = 'Predicted BDO Stock Price')\n",
    "plt.title('BDO Stock Price Prediction')\n",
    "plt.xlabel('Time')\n",
    "plt.ylabel('BDO Stock Price')\n",
    "plt.legend()"
   ]
  },
  {
   "cell_type": "code",
   "execution_count": null,
   "id": "78ac2593",
   "metadata": {},
   "outputs": [],
   "source": []
  }
 ],
 "metadata": {
  "kernelspec": {
   "display_name": "Python 3 (ipykernel)",
   "language": "python",
   "name": "python3"
  },
  "language_info": {
   "codemirror_mode": {
    "name": "ipython",
    "version": 3
   },
   "file_extension": ".py",
   "mimetype": "text/x-python",
   "name": "python",
   "nbconvert_exporter": "python",
   "pygments_lexer": "ipython3",
   "version": "3.9.12"
  }
 },
 "nbformat": 4,
 "nbformat_minor": 5
}
