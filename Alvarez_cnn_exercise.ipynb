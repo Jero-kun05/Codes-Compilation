{
 "cells": [
  {
   "cell_type": "code",
   "execution_count": 35,
   "id": "8b414fc6",
   "metadata": {},
   "outputs": [],
   "source": [
    "#Import all necessary Libraries for the Project.\n",
    "\n",
    "import tensorflow as tf\n",
    "import keras\n",
    "import numpy as np\n",
    "import cv2\n",
    "import os\n",
    "\n",
    "from keras.layers import *\n",
    "from keras.models import Sequential\n",
    "from keras.preprocessing import image"
   ]
  },
  {
   "cell_type": "code",
   "execution_count": 36,
   "id": "46bd5111",
   "metadata": {},
   "outputs": [
    {
     "name": "stdout",
     "output_type": "stream",
     "text": [
      "Found 249 images belonging to 3 classes.\n"
     ]
    }
   ],
   "source": [
    "#Loading the train data of the project.\n",
    "\n",
    "from keras.preprocessing.image import ImageDataGenerator\n",
    "train = ImageDataGenerator(\n",
    "    rescale = 1./255,\n",
    "    shear_range = 0.2,\n",
    "    zoom_range = 0.2,\n",
    "    horizontal_flip = True)\n",
    "\n",
    "train_path = 'Train - Data'\n",
    "train_dataset = train.flow_from_directory(train_path, \n",
    "                                          target_size = (224, 224), \n",
    "                                          batch_size = 32, \n",
    "                                          class_mode = 'categorical')\n"
   ]
  },
  {
   "cell_type": "code",
   "execution_count": 37,
   "id": "103a2fe2",
   "metadata": {},
   "outputs": [
    {
     "name": "stdout",
     "output_type": "stream",
     "text": [
      "Found 65 images belonging to 3 classes.\n"
     ]
    }
   ],
   "source": [
    "#Loading the test data of the project.\n",
    "\n",
    "test = ImageDataGenerator(rescale=1./255)\n",
    "test_path = 'Test - Data'\n",
    "test_dataset = train.flow_from_directory(test_path, \n",
    "                                         target_size = (224, 224), \n",
    "                                         batch_size = 32, \n",
    "                                         class_mode = 'categorical')"
   ]
  },
  {
   "cell_type": "code",
   "execution_count": 38,
   "id": "eedd2aec",
   "metadata": {},
   "outputs": [
    {
     "data": {
      "text/plain": [
       "({'Train - Covid': 0, 'Train - Normal': 1, 'Train - Pneu': 2},\n",
       " {'Test - Covid': 0, 'Test - Normal': 1, 'Test - Pneu': 2})"
      ]
     },
     "execution_count": 38,
     "metadata": {},
     "output_type": "execute_result"
    }
   ],
   "source": [
    "#Classifying the classes in each dataset.\n",
    "\n",
    "train_dataset.class_indices, test_dataset.class_indices"
   ]
  },
  {
   "cell_type": "code",
   "execution_count": 39,
   "id": "e0956fd7",
   "metadata": {},
   "outputs": [],
   "source": [
    "#Creating the Model for Image Processing.\n",
    "\n",
    "from keras.backend import categorical_crossentropy\n",
    "model = Sequential()\n",
    "model.add(Conv2D(32,\n",
    "                 kernel_size=(3,3), #Standard\n",
    "                 activation='relu',\n",
    "                 input_shape=(224,224,3)))\n",
    "model.add(Conv2D(64, (3,3), activation='relu'))\n",
    "model.add(MaxPooling2D(pool_size=(2,2)))\n",
    "model.add(Dropout(0.25))\n",
    "\n",
    "model.add(Conv2D(64, (3,3), activation='relu'))\n",
    "model.add(MaxPooling2D(pool_size=(2,2)))\n",
    "model.add(Dropout(0.25))\n",
    "\n",
    "model.add(Conv2D(128, (3,3), activation='relu'))\n",
    "model.add(MaxPooling2D(pool_size=(2,2)))\n",
    "model.add(Dropout(0.25))\n",
    "\n",
    "model.add(Flatten())\n",
    "model.add(Dense(64, activation='relu'))\n",
    "model.add(Dropout(0.5))\n",
    "model.add(Dense(3, activation='sigmoid'))\n",
    "\n",
    "model.compile(loss='categorical_crossentropy', optimizer='adam', metrics=['accuracy'])"
   ]
  },
  {
   "cell_type": "code",
   "execution_count": 40,
   "id": "c2657335",
   "metadata": {},
   "outputs": [
    {
     "name": "stdout",
     "output_type": "stream",
     "text": [
      "Model: \"sequential_2\"\n",
      "_________________________________________________________________\n",
      " Layer (type)                Output Shape              Param #   \n",
      "=================================================================\n",
      " conv2d_8 (Conv2D)           (None, 222, 222, 32)      896       \n",
      "                                                                 \n",
      " conv2d_9 (Conv2D)           (None, 220, 220, 64)      18496     \n",
      "                                                                 \n",
      " max_pooling2d_6 (MaxPooling  (None, 110, 110, 64)     0         \n",
      " 2D)                                                             \n",
      "                                                                 \n",
      " dropout_8 (Dropout)         (None, 110, 110, 64)      0         \n",
      "                                                                 \n",
      " conv2d_10 (Conv2D)          (None, 108, 108, 64)      36928     \n",
      "                                                                 \n",
      " max_pooling2d_7 (MaxPooling  (None, 54, 54, 64)       0         \n",
      " 2D)                                                             \n",
      "                                                                 \n",
      " dropout_9 (Dropout)         (None, 54, 54, 64)        0         \n",
      "                                                                 \n",
      " conv2d_11 (Conv2D)          (None, 52, 52, 128)       73856     \n",
      "                                                                 \n",
      " max_pooling2d_8 (MaxPooling  (None, 26, 26, 128)      0         \n",
      " 2D)                                                             \n",
      "                                                                 \n",
      " dropout_10 (Dropout)        (None, 26, 26, 128)       0         \n",
      "                                                                 \n",
      " flatten_2 (Flatten)         (None, 86528)             0         \n",
      "                                                                 \n",
      " dense_4 (Dense)             (None, 64)                5537856   \n",
      "                                                                 \n",
      " dropout_11 (Dropout)        (None, 64)                0         \n",
      "                                                                 \n",
      " dense_5 (Dense)             (None, 3)                 195       \n",
      "                                                                 \n",
      "=================================================================\n",
      "Total params: 5,668,227\n",
      "Trainable params: 5,668,227\n",
      "Non-trainable params: 0\n",
      "_________________________________________________________________\n"
     ]
    }
   ],
   "source": [
    "#Displaying the Model Summary.\n",
    "\n",
    "model.summary()"
   ]
  },
  {
   "cell_type": "code",
   "execution_count": 12,
   "id": "29781e50",
   "metadata": {},
   "outputs": [
    {
     "name": "stdout",
     "output_type": "stream",
     "text": [
      "Epoch 1/5\n",
      "7/7 [==============================] - 170s 20s/step - loss: 1.8966 - accuracy: 0.3318 - val_loss: 1.0948 - val_accuracy: 0.3906\n",
      "Epoch 2/5\n",
      "7/7 [==============================] - 102s 14s/step - loss: 1.0729 - accuracy: 0.4516 - val_loss: 1.0703 - val_accuracy: 0.3750\n",
      "Epoch 3/5\n",
      "7/7 [==============================] - 82s 12s/step - loss: 0.9607 - accuracy: 0.5484 - val_loss: 0.8973 - val_accuracy: 0.7031\n",
      "Epoch 4/5\n",
      "7/7 [==============================] - 80s 12s/step - loss: 0.7149 - accuracy: 0.6774 - val_loss: 0.8222 - val_accuracy: 0.6875\n",
      "Epoch 5/5\n",
      "7/7 [==============================] - 83s 12s/step - loss: 0.7859 - accuracy: 0.6452 - val_loss: 0.7880 - val_accuracy: 0.7500\n"
     ]
    }
   ],
   "source": [
    "#Training the dataset with the model.\n",
    "\n",
    "history = model.fit(\n",
    "    train_dataset,\n",
    "    steps_per_epoch=7,\n",
    "    epochs = 5,\n",
    "    validation_data = test_dataset,\n",
    "    validation_steps=2\n",
    ")"
   ]
  },
  {
   "cell_type": "code",
   "execution_count": 41,
   "id": "ef198189",
   "metadata": {},
   "outputs": [
    {
     "data": {
      "text/plain": [
       "({'Train - Covid': 0, 'Train - Normal': 1, 'Train - Pneu': 2},\n",
       " {'Test - Covid': 0, 'Test - Normal': 1, 'Test - Pneu': 2})"
      ]
     },
     "execution_count": 41,
     "metadata": {},
     "output_type": "execute_result"
    }
   ],
   "source": [
    "train_dataset.class_indices, test_dataset.class_indices"
   ]
  },
  {
   "cell_type": "code",
   "execution_count": 42,
   "id": "b3f877f8",
   "metadata": {},
   "outputs": [],
   "source": [
    "from keras.backend import categorical_crossentropy\n",
    "model = Sequential()\n",
    "model.add(Conv2D(32,\n",
    "                 kernel_size=(3,3), #Standard\n",
    "                 activation='relu',\n",
    "                 input_shape=(224,224,3)))\n",
    "model.add(Conv2D(64, (3,3), activation='relu'))\n",
    "model.add(MaxPooling2D(pool_size=(2,2)))\n",
    "model.add(Dropout(0.25))\n",
    "\n",
    "model.add(Conv2D(64, (3,3), activation='relu'))\n",
    "model.add(MaxPooling2D(pool_size=(2,2)))\n",
    "model.add(Dropout(0.25))\n",
    "\n",
    "model.add(Conv2D(128, (3,3), activation='relu'))\n",
    "model.add(MaxPooling2D(pool_size=(2,2)))\n",
    "model.add(Dropout(0.25))\n",
    "\n",
    "model.add(Flatten())\n",
    "model.add(Dense(64, activation='relu'))\n",
    "model.add(Dropout(0.5))\n",
    "model.add(Dense(3, activation='sigmoid'))\n",
    "\n",
    "model.compile(loss='categorical_crossentropy', optimizer='adam', metrics=['accuracy'])"
   ]
  },
  {
   "cell_type": "code",
   "execution_count": 43,
   "id": "96177327",
   "metadata": {},
   "outputs": [
    {
     "name": "stdout",
     "output_type": "stream",
     "text": [
      "Model: \"sequential_3\"\n",
      "_________________________________________________________________\n",
      " Layer (type)                Output Shape              Param #   \n",
      "=================================================================\n",
      " conv2d_12 (Conv2D)          (None, 222, 222, 32)      896       \n",
      "                                                                 \n",
      " conv2d_13 (Conv2D)          (None, 220, 220, 64)      18496     \n",
      "                                                                 \n",
      " max_pooling2d_9 (MaxPooling  (None, 110, 110, 64)     0         \n",
      " 2D)                                                             \n",
      "                                                                 \n",
      " dropout_12 (Dropout)        (None, 110, 110, 64)      0         \n",
      "                                                                 \n",
      " conv2d_14 (Conv2D)          (None, 108, 108, 64)      36928     \n",
      "                                                                 \n",
      " max_pooling2d_10 (MaxPoolin  (None, 54, 54, 64)       0         \n",
      " g2D)                                                            \n",
      "                                                                 \n",
      " dropout_13 (Dropout)        (None, 54, 54, 64)        0         \n",
      "                                                                 \n",
      " conv2d_15 (Conv2D)          (None, 52, 52, 128)       73856     \n",
      "                                                                 \n",
      " max_pooling2d_11 (MaxPoolin  (None, 26, 26, 128)      0         \n",
      " g2D)                                                            \n",
      "                                                                 \n",
      " dropout_14 (Dropout)        (None, 26, 26, 128)       0         \n",
      "                                                                 \n",
      " flatten_3 (Flatten)         (None, 86528)             0         \n",
      "                                                                 \n",
      " dense_6 (Dense)             (None, 64)                5537856   \n",
      "                                                                 \n",
      " dropout_15 (Dropout)        (None, 64)                0         \n",
      "                                                                 \n",
      " dense_7 (Dense)             (None, 3)                 195       \n",
      "                                                                 \n",
      "=================================================================\n",
      "Total params: 5,668,227\n",
      "Trainable params: 5,668,227\n",
      "Non-trainable params: 0\n",
      "_________________________________________________________________\n"
     ]
    }
   ],
   "source": [
    "model.summary()"
   ]
  },
  {
   "cell_type": "code",
   "execution_count": 17,
   "id": "b83711e9",
   "metadata": {},
   "outputs": [
    {
     "name": "stderr",
     "output_type": "stream",
     "text": [
      "C:\\Users\\asus\\AppData\\Local\\Temp\\ipykernel_6384\\3789333184.py:1: UserWarning: `Model.fit_generator` is deprecated and will be removed in a future version. Please use `Model.fit`, which supports generators.\n",
      "  history = model.fit_generator(\n"
     ]
    },
    {
     "name": "stdout",
     "output_type": "stream",
     "text": [
      "Epoch 1/5\n",
      "7/7 [==============================] - 109s 15s/step - loss: 2.1448 - accuracy: 0.3973 - val_loss: 1.0973 - val_accuracy: 0.3906\n",
      "Epoch 2/5\n",
      "7/7 [==============================] - 62s 9s/step - loss: 1.0554 - accuracy: 0.4608 - val_loss: 1.0743 - val_accuracy: 0.3750\n",
      "Epoch 3/5\n",
      "7/7 [==============================] - 61s 9s/step - loss: 0.9688 - accuracy: 0.5668 - val_loss: 0.9929 - val_accuracy: 0.6094\n",
      "Epoch 4/5\n",
      "7/7 [==============================] - 62s 9s/step - loss: 0.7899 - accuracy: 0.6562 - val_loss: 0.8513 - val_accuracy: 0.6406\n",
      "Epoch 5/5\n",
      "7/7 [==============================] - 62s 9s/step - loss: 0.6199 - accuracy: 0.7051 - val_loss: 0.6892 - val_accuracy: 0.6562\n"
     ]
    }
   ],
   "source": [
    "history = model.fit(\n",
    "    train_dataset,\n",
    "    steps_per_epoch=7,\n",
    "    epochs = 5,\n",
    "    validation_data = test_dataset,\n",
    "    validation_steps=2\n",
    ")"
   ]
  },
  {
   "cell_type": "code",
   "execution_count": 44,
   "id": "5c550675",
   "metadata": {},
   "outputs": [
    {
     "name": "stdout",
     "output_type": "stream",
     "text": [
      "8/8 [==============================] - 73s 6s/step - loss: 1.0956 - accuracy: 0.3815\n",
      "Test score: 1.0956283807754517\n",
      "Test accuracy: 0.3815261125564575\n"
     ]
    }
   ],
   "source": [
    "#Displaying the Test Accuracy and Score.\n",
    "\n",
    "score = model.evaluate(train_dataset)\n",
    "print('Test score:', score[0])\n",
    "print('Test accuracy:', score[1])"
   ]
  },
  {
   "cell_type": "code",
   "execution_count": 45,
   "id": "607ce05e",
   "metadata": {},
   "outputs": [],
   "source": [
    "#Testing the Validation Dataset.\n",
    "\n",
    "path_dir = 'validation'\n",
    "\n",
    "def loadImages(path, folder):\n",
    "    data_files = sorted([os.path.join(folder, file)\n",
    "                        for file in os.listdir(folder + '/')\n",
    "                        if (file.endswith('.jpg') or file.endswith('.jpeg') or file.endswith('.png') or file.endswith('.webp'))])\n",
    "    return data_files\n",
    "\n",
    "valid_data = loadImages(path_dir, 'validation')"
   ]
  },
  {
   "cell_type": "code",
   "execution_count": 33,
   "id": "51bc72a4",
   "metadata": {},
   "outputs": [],
   "source": [
    "#Processing the Validation Dataset.\n",
    "\n",
    "x_cv = valid_data\n",
    "x_t = []\n",
    "images = []\n",
    "\n",
    "for x in x_cv:\n",
    "    img = cv2.imread(x)\n",
    "    img = img[:, :, :3]\n",
    "    images.append(img)\n",
    "\n",
    "    width = 224\n",
    "    height = 224\n",
    "    dim = (width, height)\n",
    "\n",
    "    resized = cv2.resize(img, dim, interpolation=cv2.INTER_AREA)\n",
    "    x_t.append(resized)\n",
    "\n",
    "x_t = np.array(x_t)\n",
    "x_t = x_t/255"
   ]
  },
  {
   "cell_type": "code",
   "execution_count": 34,
   "id": "ed6bf877",
   "metadata": {},
   "outputs": [
    {
     "name": "stdout",
     "output_type": "stream",
     "text": [
      "1/1 [==============================] - 45s 45s/step\n",
      "[1 1 0 2 2 2 0 0 2 0]\n"
     ]
    }
   ],
   "source": [
    "#Posting the Predicted diagnosis.\n",
    "\n",
    "y_pred = model.predict(x_t)\n",
    "predict = np.argmax(y_pred, axis=1)\n",
    "print(predict)"
   ]
  },
  {
   "cell_type": "code",
   "execution_count": null,
   "id": "5d7d6b65",
   "metadata": {},
   "outputs": [],
   "source": []
  }
 ],
 "metadata": {
  "kernelspec": {
   "display_name": "Python 3 (ipykernel)",
   "language": "python",
   "name": "python3"
  },
  "language_info": {
   "codemirror_mode": {
    "name": "ipython",
    "version": 3
   },
   "file_extension": ".py",
   "mimetype": "text/x-python",
   "name": "python",
   "nbconvert_exporter": "python",
   "pygments_lexer": "ipython3",
   "version": "3.9.12"
  }
 },
 "nbformat": 4,
 "nbformat_minor": 5
}
